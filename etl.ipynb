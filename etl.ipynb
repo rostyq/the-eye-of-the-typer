{
 "cells": [
  {
   "cell_type": "code",
   "execution_count": null,
   "metadata": {},
   "outputs": [],
   "source": [
    "%load_ext dotenv\n",
    "%dotenv"
   ]
  },
  {
   "cell_type": "code",
   "execution_count": null,
   "metadata": {},
   "outputs": [],
   "source": [
    "from pathlib import Path\n",
    "from datetime import datetime, timedelta\n",
    "from pprint import pprint\n",
    "from os import environ\n",
    "\n",
    "import polars as pl\n",
    "import cv2 as cv\n",
    "\n",
    "from eott_dataset import *"
   ]
  },
  {
   "cell_type": "code",
   "execution_count": null,
   "metadata": {},
   "outputs": [],
   "source": [
    "# %env set EOTT_DATASET_PATH\n",
    "# %env set EOTT_OUTPUT_PATH\n",
    "\n",
    "output_dir = Path(environ[\"EOTT_OUTPUT_PATH\"]).expanduser().resolve()\n",
    "print(\"output directory:\")\n",
    "print(output_dir)\n",
    "\n",
    "pdf = read_participant_characteristics()\n",
    "pdf"
   ]
  },
  {
   "cell_type": "code",
   "execution_count": null,
   "metadata": {},
   "outputs": [],
   "source": [
    "def get_filename(source: str, ext=\"parquet\"):\n",
    "    return f\"{source}.{ext}\"\n",
    "\n",
    "\n",
    "def with_pid_column(df: pl.DataFrame, value: int):\n",
    "    df = df.with_row_index(name=\"frame\")\n",
    "    return df.with_columns(pid=pl.lit(value, pl.UInt8))\n",
    "\n",
    "\n",
    "def logs_dataframe(p: Participant):\n",
    "    df = with_pid_column(p.user_interaction_logs, p.pid)\n",
    "    return df.select(\"pid\", \"frame\", \"index\", \"study\", \"event\", \"epoch\")\n",
    "\n",
    "\n",
    "def tobii_dataframe(p: Participant):\n",
    "    print(p.pid)\n",
    "    df = with_pid_column(p.tobii_gaze_predictions, p.pid)\n",
    "    return df\n",
    "\n",
    "\n",
    "ps = [Participant.from_dict(**row) for row in pdf.iter_rows(named=True)]\n",
    "\n",
    "with pl.StringCache():\n",
    "    pl.concat([logs_dataframe(p) for p in ps]).write_parquet(output_dir / get_filename(\"logs\"))\n",
    "\n",
    "pl.concat([tobii_dataframe(p) for p in ps]).write_parquet(output_dir / get_filename(\"tobii\"))"
   ]
  },
  {
   "cell_type": "code",
   "execution_count": null,
   "metadata": {},
   "outputs": [],
   "source": []
  }
 ],
 "metadata": {
  "kernelspec": {
   "display_name": "Python 3",
   "language": "python",
   "name": "python3"
  },
  "language_info": {
   "codemirror_mode": {
    "name": "ipython",
    "version": 3
   },
   "file_extension": ".py",
   "mimetype": "text/x-python",
   "name": "python",
   "nbconvert_exporter": "python",
   "pygments_lexer": "ipython3",
   "version": "3.12.0"
  }
 },
 "nbformat": 4,
 "nbformat_minor": 2
}
