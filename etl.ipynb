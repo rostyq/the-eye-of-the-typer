{
 "cells": [
  {
   "cell_type": "code",
   "execution_count": null,
   "metadata": {},
   "outputs": [],
   "source": [
    "%load_ext dotenv\n",
    "%dotenv"
   ]
  },
  {
   "cell_type": "code",
   "execution_count": null,
   "metadata": {},
   "outputs": [],
   "source": [
    "from pathlib import Path\n",
    "from pprint import pprint\n",
    "from os import environ\n",
    "\n",
    "from tqdm import tqdm\n",
    "\n",
    "import polars as pl\n",
    "\n",
    "from eott_dataset import *\n",
    "from eott_dataset.etl import *"
   ]
  },
  {
   "cell_type": "code",
   "execution_count": null,
   "metadata": {},
   "outputs": [],
   "source": [
    "# %env set EOTT_DATASET_PATH\n",
    "# %env set EOTT_OUTPUT_PATH\n",
    "\n",
    "output_dir = Path(environ[\"EOTT_OUTPUT_PATH\"]).expanduser().resolve()\n",
    "print(\"output directory:\")\n",
    "print(output_dir)\n",
    "\n",
    "pdf = participant_dataframe().collect()\n",
    "pdf.write_parquet(output_dir / \"participant.parquet\", compression=\"uncompressed\")\n",
    "pdf"
   ]
  },
  {
   "cell_type": "code",
   "execution_count": null,
   "metadata": {},
   "outputs": [],
   "source": [
    "with pl.StringCache():\n",
    "    dfs = [event_dataframes(p, pid_from_name(p.parent.name)) for p in  glob_log_files()]\n",
    "    dfs: list[pl.DataFrame]\n",
    "    for dfs, name in zip(zip(*dfs), (\"log\", \"scroll\", \"mouse\")):\n",
    "        pl.concat(dfs).write_parquet(output_dir / f\"{name}.parquet\", compression=\"lz4\")"
   ]
  },
  {
   "cell_type": "code",
   "execution_count": null,
   "metadata": {},
   "outputs": [],
   "source": [
    "df = pl.concat([calibration_dataframe(p, pid_from_name(p.parent.name)) for p in glob_specs_files()])\n",
    "df.collect().write_parquet(output_dir / \"calibration.parquet\", compression=\"uncompressed\")"
   ]
  },
  {
   "cell_type": "code",
   "execution_count": null,
   "metadata": {},
   "outputs": [],
   "source": [
    "df = pl.concat([tobii_dataframe(p, pid_from_name(p.parent.name)) for p in glob_tobii_files()])\n",
    "df.collect().write_parquet(output_dir / \"tobii.parquet\", compression=\"lz4\")"
   ]
  },
  {
   "cell_type": "code",
   "execution_count": null,
   "metadata": {},
   "outputs": [],
   "source": [
    "# test files are readable\n",
    "for path in output_dir.glob(\"*.parquet\"):\n",
    "    print(path)\n",
    "    df = pl.read_parquet(path, use_statistics=False)\n",
    "    pprint(df.schema)\n",
    "    print()\n",
    "    del df"
   ]
  },
  {
   "cell_type": "code",
   "execution_count": null,
   "metadata": {},
   "outputs": [],
   "source": [
    "df = pl.scan_parquet(output_dir / \"webcam.parquet\")"
   ]
  },
  {
   "cell_type": "code",
   "execution_count": null,
   "metadata": {},
   "outputs": [],
   "source": [
    "from io import BytesIO\n",
    "from decord import VideoReader\n",
    "\n",
    "entry = df.filter(pid=1, index=2, aux=0).collect().to_dicts()[0]\n",
    "vr = VideoReader(BytesIO(entry[\"video\"]))\n",
    "\n",
    "for frame in vr:\n",
    "    print(frame.shape)\n",
    "del vr"
   ]
  },
  {
   "cell_type": "code",
   "execution_count": null,
   "metadata": {},
   "outputs": [],
   "source": [
    "raise\n",
    "with tqdm(desc=\"webcam\", total=len([*glob_webcam_files()])) as t:\n",
    "    df = webcam_dataframe(callback=lambda: t.update(1))\n",
    "    df.sink_parquet(output_dir / \"webcam.parquet\", compression=\"uncompressed\")"
   ]
  }
 ],
 "metadata": {
  "kernelspec": {
   "display_name": "Python 3",
   "language": "python",
   "name": "python3"
  },
  "language_info": {
   "codemirror_mode": {
    "name": "ipython",
    "version": 3
   },
   "file_extension": ".py",
   "mimetype": "text/x-python",
   "name": "python",
   "nbconvert_exporter": "python",
   "pygments_lexer": "ipython3",
   "version": "3.12.0"
  }
 },
 "nbformat": 4,
 "nbformat_minor": 2
}
