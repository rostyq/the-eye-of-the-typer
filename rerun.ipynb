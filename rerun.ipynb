{
 "cells": [
  {
   "cell_type": "markdown",
   "metadata": {},
   "source": [
    "# \"The Eye Of The Typer\" Dataset Rerun\n",
    "\n",
    "Visualize using `rerun`."
   ]
  },
  {
   "cell_type": "code",
   "execution_count": 13,
   "metadata": {},
   "outputs": [
    {
     "name": "stdout",
     "output_type": "stream",
     "text": [
      "The dotenv extension is already loaded. To reload it, use:\n",
      "  %reload_ext dotenv\n"
     ]
    }
   ],
   "source": [
    "%load_ext dotenv\n",
    "%dotenv"
   ]
  },
  {
   "cell_type": "code",
   "execution_count": 14,
   "metadata": {},
   "outputs": [],
   "source": [
    "from pathlib import Path\n",
    "from datetime import datetime, timedelta\n",
    "from pprint import pprint\n",
    "\n",
    "import polars as pl\n",
    "import cv2 as cv\n",
    "\n",
    "from eott_dataset import *"
   ]
  },
  {
   "cell_type": "code",
   "execution_count": 15,
   "metadata": {},
   "outputs": [
    {
     "data": {
      "text/html": [
       "<div><style>\n",
       ".dataframe > thead > tr,\n",
       ".dataframe > tbody > tr {\n",
       "  text-align: right;\n",
       "  white-space: pre-wrap;\n",
       "}\n",
       "</style>\n",
       "<small>shape: (51, 26)</small><table border=\"1\" class=\"dataframe\"><thead><tr><th>pid</th><th>log_id</th><th>date</th><th>setting</th><th>display_width</th><th>display_height</th><th>screen_width</th><th>screen_height</th><th>distance_from_screen</th><th>screen_recording</th><th>wall_clock</th><th>gender</th><th>age</th><th>race</th><th>skin_color</th><th>eye_color</th><th>facial_hair</th><th>vision</th><th>touch_typer</th><th>handedness</th><th>weather</th><th>pointing_device</th><th>notes</th><th>time_of_day</th><th>duration</th><th>start_time</th></tr><tr><td>u8</td><td>u64</td><td>date</td><td>cat</td><td>u16</td><td>u16</td><td>f64</td><td>f64</td><td>f64</td><td>datetime[ms]</td><td>datetime[μs]</td><td>cat</td><td>u8</td><td>cat</td><td>cat</td><td>cat</td><td>cat</td><td>cat</td><td>bool</td><td>cat</td><td>cat</td><td>cat</td><td>str</td><td>time</td><td>duration[ms]</td><td>datetime[ms]</td></tr></thead><tbody><tr><td>1</td><td>1491423217564</td><td>2017-04-05</td><td>&quot;Laptop&quot;</td><td>1440</td><td>900</td><td>33.17</td><td>20.73</td><td>60.0</td><td>2017-04-05 20:19:12.200</td><td>2017-04-05 20:36:00</td><td>&quot;Male&quot;</td><td>25</td><td>&quot;Asian&quot;</td><td>&quot;1&quot;</td><td>&quot;Dark Brown to …</td><td>&quot;None&quot;</td><td>&quot;Normal&quot;</td><td>true</td><td>&quot;Right&quot;</td><td>&quot;Cloudy&quot;</td><td>&quot;Trackpad&quot;</td><td>&quot;Did not see th…</td><td>16:00:00</td><td>16h 40m</td><td>2017-04-05 20:13:37.564</td></tr><tr><td>2</td><td>1491487691210</td><td>2017-04-06</td><td>&quot;Laptop&quot;</td><td>1440</td><td>900</td><td>33.17</td><td>20.73</td><td>55.0</td><td>2017-04-06 14:18:38.800</td><td>2017-04-06 14:41:00</td><td>&quot;Male&quot;</td><td>22</td><td>&quot;Asian&quot;</td><td>&quot;1&quot;</td><td>&quot;Dark Brown to …</td><td>&quot;None&quot;</td><td>&quot;Normal&quot;</td><td>false</td><td>&quot;Right&quot;</td><td>&quot;Indoors&quot;</td><td>&quot;Trackpad&quot;</td><td>null</td><td>10:00:00</td><td>22h 43m</td><td>2017-04-06 14:08:11.210</td></tr><tr><td>6</td><td>1491573819193</td><td>2017-04-07</td><td>&quot;PC&quot;</td><td>1920</td><td>1200</td><td>51.7</td><td>32.31</td><td>77.0</td><td>null</td><td>null</td><td>&quot;Female&quot;</td><td>25</td><td>&quot;White&quot;</td><td>&quot;1&quot;</td><td>&quot;Gray to Blue o…</td><td>&quot;None&quot;</td><td>&quot;Normal&quot;</td><td>true</td><td>&quot;Right&quot;</td><td>&quot;Sunny&quot;</td><td>&quot;Mouse&quot;</td><td>&quot;Trapped in one…</td><td>10:00:00</td><td>17h 5m</td><td>2017-04-07 14:03:39.193</td></tr><tr><td>7</td><td>1491577862552</td><td>2017-04-07</td><td>&quot;Laptop&quot;</td><td>1440</td><td>900</td><td>33.17</td><td>20.73</td><td>null</td><td>2017-04-07 15:42:35.600</td><td>2017-04-07 16:03:00</td><td>&quot;Female&quot;</td><td>27</td><td>&quot;Asian&quot;</td><td>&quot;4&quot;</td><td>&quot;Dark Brown to …</td><td>&quot;None&quot;</td><td>&quot;Glasses&quot;</td><td>false</td><td>&quot;Right&quot;</td><td>&quot;Sunny&quot;</td><td>&quot;Trackpad&quot;</td><td>&quot;No video for t…</td><td>11:00:00</td><td>20h 38m</td><td>2017-04-07 15:11:02.552</td></tr><tr><td>8</td><td>1491591937547</td><td>2017-04-07</td><td>&quot;PC&quot;</td><td>1920</td><td>1200</td><td>51.7</td><td>32.31</td><td>83.0</td><td>null</td><td>null</td><td>&quot;Male&quot;</td><td>23</td><td>&quot;White&quot;</td><td>&quot;1&quot;</td><td>&quot;Dark Brown to …</td><td>&quot;Beard&quot;</td><td>&quot;Glasses&quot;</td><td>true</td><td>&quot;Right&quot;</td><td>&quot;Cloudy&quot;</td><td>&quot;Mouse&quot;</td><td>null</td><td>15:00:00</td><td>1d 9m</td><td>2017-04-07 19:05:37.547</td></tr><tr><td>&hellip;</td><td>&hellip;</td><td>&hellip;</td><td>&hellip;</td><td>&hellip;</td><td>&hellip;</td><td>&hellip;</td><td>&hellip;</td><td>&hellip;</td><td>&hellip;</td><td>&hellip;</td><td>&hellip;</td><td>&hellip;</td><td>&hellip;</td><td>&hellip;</td><td>&hellip;</td><td>&hellip;</td><td>&hellip;</td><td>&hellip;</td><td>&hellip;</td><td>&hellip;</td><td>&hellip;</td><td>&hellip;</td><td>&hellip;</td><td>&hellip;</td><td>&hellip;</td></tr><tr><td>60</td><td>1493219365171</td><td>2017-04-26</td><td>&quot;Laptop&quot;</td><td>1440</td><td>900</td><td>33.17</td><td>20.73</td><td>58.0</td><td>2017-04-26 14:53:39.700</td><td>2017-04-26 15:13:00</td><td>&quot;Male&quot;</td><td>27</td><td>&quot;Asian&quot;</td><td>&quot;2&quot;</td><td>&quot;Dark Brown to …</td><td>&quot;Little&quot;</td><td>&quot;Glasses&quot;</td><td>false</td><td>&quot;Right&quot;</td><td>&quot;Indoors&quot;</td><td>&quot;Mouse&quot;</td><td>null</td><td>11:00:00</td><td>19h 5m</td><td>2017-04-26 15:09:25.171</td></tr><tr><td>61</td><td>1493222549175</td><td>2017-04-26</td><td>&quot;Laptop&quot;</td><td>1440</td><td>900</td><td>33.17</td><td>20.73</td><td>54.0</td><td>2017-04-26 16:06:05.800</td><td>2017-04-26 16:22:00</td><td>&quot;Female&quot;</td><td>29</td><td>&quot;Other&quot;</td><td>&quot;3&quot;</td><td>&quot;Dark Brown to …</td><td>&quot;None&quot;</td><td>&quot;Glasses&quot;</td><td>true</td><td>&quot;Right&quot;</td><td>&quot;Cloudy&quot;</td><td>&quot;Trackpad&quot;</td><td>&quot;Trapped in one…</td><td>12:00:00</td><td>15h 20m</td><td>2017-04-26 16:02:29.175</td></tr><tr><td>62</td><td>1493230037782</td><td>2017-04-26</td><td>&quot;Laptop&quot;</td><td>1440</td><td>900</td><td>33.17</td><td>20.73</td><td>56.0</td><td>2017-04-26 18:13:06.100</td><td>2017-04-26 18:37:00</td><td>&quot;Male&quot;</td><td>24</td><td>&quot;Black&quot;</td><td>&quot;5&quot;</td><td>&quot;Dark Brown to …</td><td>&quot;Beard&quot;</td><td>&quot;Normal&quot;</td><td>true</td><td>&quot;Right&quot;</td><td>&quot;Cloudy&quot;</td><td>&quot;Trackpad&quot;</td><td>null</td><td>14:00:00</td><td>22h 51m</td><td>2017-04-26 18:07:17.782</td></tr><tr><td>63</td><td>1493233434542</td><td>2017-04-26</td><td>&quot;Laptop&quot;</td><td>1440</td><td>900</td><td>33.17</td><td>20.73</td><td>54.0</td><td>2017-04-26 19:10:38.100</td><td>2017-04-26 19:41:00</td><td>&quot;Female&quot;</td><td>26</td><td>&quot;Asian&quot;</td><td>&quot;2&quot;</td><td>&quot;Dark Brown to …</td><td>&quot;None&quot;</td><td>&quot;Glasses&quot;</td><td>false</td><td>&quot;Right&quot;</td><td>&quot;Cloudy&quot;</td><td>&quot;Trackpad&quot;</td><td>null</td><td>15:00:00</td><td>1d 6h 38m</td><td>2017-04-26 19:03:54.542</td></tr><tr><td>64</td><td>1493237348836</td><td>2017-04-26</td><td>&quot;Laptop&quot;</td><td>1440</td><td>900</td><td>33.17</td><td>20.73</td><td>54.0</td><td>2017-04-26 20:13:12.800</td><td>2017-04-26 20:29:00</td><td>&quot;Female&quot;</td><td>27</td><td>&quot;Asian&quot;</td><td>&quot;1&quot;</td><td>&quot;Dark Brown to …</td><td>&quot;None&quot;</td><td>&quot;Contacts&quot;</td><td>true</td><td>&quot;Right&quot;</td><td>&quot;Indoors&quot;</td><td>&quot;Trackpad&quot;</td><td>&quot;No video for t…</td><td>16:00:00</td><td>15h 6m</td><td>2017-04-26 20:09:08.836</td></tr></tbody></table></div>"
      ],
      "text/plain": [
       "shape: (51, 26)\n",
       "┌─────┬─────────────┬────────────┬─────────┬───┬────────────┬────────────┬────────────┬────────────┐\n",
       "│ pid ┆ log_id      ┆ date       ┆ setting ┆ … ┆ notes      ┆ time_of_da ┆ duration   ┆ start_time │\n",
       "│ --- ┆ ---         ┆ ---        ┆ ---     ┆   ┆ ---        ┆ y          ┆ ---        ┆ ---        │\n",
       "│ u8  ┆ u64         ┆ date       ┆ cat     ┆   ┆ str        ┆ ---        ┆ duration[m ┆ datetime[m │\n",
       "│     ┆             ┆            ┆         ┆   ┆            ┆ time       ┆ s]         ┆ s]         │\n",
       "╞═════╪═════════════╪════════════╪═════════╪═══╪════════════╪════════════╪════════════╪════════════╡\n",
       "│ 1   ┆ 14914232175 ┆ 2017-04-05 ┆ Laptop  ┆ … ┆ Did not    ┆ 16:00:00   ┆ 16h 40m    ┆ 2017-04-05 │\n",
       "│     ┆ 64          ┆            ┆         ┆   ┆ see the    ┆            ┆            ┆ 20:13:37.5 │\n",
       "│     ┆             ┆            ┆         ┆   ┆ button at  ┆            ┆            ┆ 64         │\n",
       "│     ┆             ┆            ┆         ┆   ┆ the bo…    ┆            ┆            ┆            │\n",
       "│ 2   ┆ 14914876912 ┆ 2017-04-06 ┆ Laptop  ┆ … ┆ null       ┆ 10:00:00   ┆ 22h 43m    ┆ 2017-04-06 │\n",
       "│     ┆ 10          ┆            ┆         ┆   ┆            ┆            ┆            ┆ 14:08:11.2 │\n",
       "│     ┆             ┆            ┆         ┆   ┆            ┆            ┆            ┆ 10         │\n",
       "│ 6   ┆ 14915738191 ┆ 2017-04-07 ┆ PC      ┆ … ┆ Trapped in ┆ 10:00:00   ┆ 17h 5m     ┆ 2017-04-07 │\n",
       "│     ┆ 93          ┆            ┆         ┆   ┆ one of the ┆            ┆            ┆ 14:03:39.1 │\n",
       "│     ┆             ┆            ┆         ┆   ┆ running    ┆            ┆            ┆ 93         │\n",
       "│     ┆             ┆            ┆         ┆   ┆ pa…        ┆            ┆            ┆            │\n",
       "│ 7   ┆ 14915778625 ┆ 2017-04-07 ┆ Laptop  ┆ … ┆ No video   ┆ 11:00:00   ┆ 20h 38m    ┆ 2017-04-07 │\n",
       "│     ┆ 52          ┆            ┆         ┆   ┆ for the    ┆            ┆            ┆ 15:11:02.5 │\n",
       "│     ┆             ┆            ┆         ┆   ┆ thankyou   ┆            ┆            ┆ 52         │\n",
       "│     ┆             ┆            ┆         ┆   ┆ page       ┆            ┆            ┆            │\n",
       "│ 8   ┆ 14915919375 ┆ 2017-04-07 ┆ PC      ┆ … ┆ null       ┆ 15:00:00   ┆ 1d 9m      ┆ 2017-04-07 │\n",
       "│     ┆ 47          ┆            ┆         ┆   ┆            ┆            ┆            ┆ 19:05:37.5 │\n",
       "│     ┆             ┆            ┆         ┆   ┆            ┆            ┆            ┆ 47         │\n",
       "│ …   ┆ …           ┆ …          ┆ …       ┆ … ┆ …          ┆ …          ┆ …          ┆ …          │\n",
       "│ 60  ┆ 14932193651 ┆ 2017-04-26 ┆ Laptop  ┆ … ┆ null       ┆ 11:00:00   ┆ 19h 5m     ┆ 2017-04-26 │\n",
       "│     ┆ 71          ┆            ┆         ┆   ┆            ┆            ┆            ┆ 15:09:25.1 │\n",
       "│     ┆             ┆            ┆         ┆   ┆            ┆            ┆            ┆ 71         │\n",
       "│ 61  ┆ 14932225491 ┆ 2017-04-26 ┆ Laptop  ┆ … ┆ Trapped in ┆ 12:00:00   ┆ 15h 20m    ┆ 2017-04-26 │\n",
       "│     ┆ 75          ┆            ┆         ┆   ┆ one of the ┆            ┆            ┆ 16:02:29.1 │\n",
       "│     ┆             ┆            ┆         ┆   ┆ running    ┆            ┆            ┆ 75         │\n",
       "│     ┆             ┆            ┆         ┆   ┆ pa…        ┆            ┆            ┆            │\n",
       "│ 62  ┆ 14932300377 ┆ 2017-04-26 ┆ Laptop  ┆ … ┆ null       ┆ 14:00:00   ┆ 22h 51m    ┆ 2017-04-26 │\n",
       "│     ┆ 82          ┆            ┆         ┆   ┆            ┆            ┆            ┆ 18:07:17.7 │\n",
       "│     ┆             ┆            ┆         ┆   ┆            ┆            ┆            ┆ 82         │\n",
       "│ 63  ┆ 14932334345 ┆ 2017-04-26 ┆ Laptop  ┆ … ┆ null       ┆ 15:00:00   ┆ 1d 6h 38m  ┆ 2017-04-26 │\n",
       "│     ┆ 42          ┆            ┆         ┆   ┆            ┆            ┆            ┆ 19:03:54.5 │\n",
       "│     ┆             ┆            ┆         ┆   ┆            ┆            ┆            ┆ 42         │\n",
       "│ 64  ┆ 14932373488 ┆ 2017-04-26 ┆ Laptop  ┆ … ┆ No video   ┆ 16:00:00   ┆ 15h 6m     ┆ 2017-04-26 │\n",
       "│     ┆ 36          ┆            ┆         ┆   ┆ for the    ┆            ┆            ┆ 20:09:08.8 │\n",
       "│     ┆             ┆            ┆         ┆   ┆ thankyou   ┆            ┆            ┆ 36         │\n",
       "│     ┆             ┆            ┆         ┆   ┆ page       ┆            ┆            ┆            │\n",
       "└─────┴─────────────┴────────────┴─────────┴───┴────────────┴────────────┴────────────┴────────────┘"
      ]
     },
     "execution_count": 15,
     "metadata": {},
     "output_type": "execute_result"
    }
   ],
   "source": [
    "# %env set EOTT_DATASET_PATH\n",
    "pdf = read_participant_characteristics()\n",
    "participants = [Participant.create(**row) for row in pdf.iter_rows(named=True)]\n",
    "pdf"
   ]
  },
  {
   "cell_type": "code",
   "execution_count": 16,
   "metadata": {},
   "outputs": [
    {
     "name": "stdout",
     "output_type": "stream",
     "text": [
      "Found existing process on port 9876. Trying to connect.\n"
     ]
    }
   ],
   "source": [
    "import rerun as rr\n",
    "from eott_dataset.rerun import *\n",
    "\n",
    "p = participants[0]\n",
    "study_type = Study.DOT_TEST\n",
    "\n",
    "recording_id = f\"{p.participant_id}/{study_type}\"\n",
    "timeline_df = get_timeline(p).filter(pl.col(\"study\") == study_type)\n",
    "\n",
    "rr.init(\"EOTT\", recording_id=recording_id, spawn=True)\n",
    "rr.log(\n",
    "    \"participant\",\n",
    "    rr.TextDocument(\n",
    "        \"\\n\".join(f\"[{key}]\\n{value}\\n\" for key, value in p.to_dict().items())\n",
    "    ),\n",
    "    timeless=True,\n",
    ")\n",
    "\n",
    "screen_cap: cv.VideoCapture | None = None\n",
    "webcam_cap: cv.VideoCapture | None = None\n",
    "webcam_path: Path | None = None\n",
    "\n",
    "screen_size: tuple[int, int] = (p.display_width, p.display_height)\n",
    "screen_size = tuple(map(lambda v: int(v * screen_scale), screen_size))\n",
    "screen_factor = 2 if p.setting is Setting.LAPTOP else 1\n",
    "\n",
    "webcam_scale = 1.0\n",
    "screen_scale = 0.5\n",
    "\n",
    "if p.screen_recording_path.exists():\n",
    "    screen_cap = cv.VideoCapture(str(p.screen_recording_path))\n",
    "\n",
    "rr.log(\n",
    "    f\"screen\",\n",
    "    rr.Boxes2D(sizes=[screen_size], centers=[tuple(map(lambda v: .5 * v, screen_size))]),\n",
    "    timeless=True,\n",
    ")\n",
    "\n",
    "rr.log(\n",
    "    \"participant/pupil/left/tobii\",\n",
    "    rr.SeriesLine(name=\"left pupil diameter (tobii)\", color=(255, 255, 0), width=1),\n",
    "    timeless=True,\n",
    ")\n",
    "rr.log(\n",
    "    \"participant/pupil/right/tobii\",\n",
    "    rr.SeriesLine(name=\"right pupil diameter (tobii)\", color=(255, 0, 255), width=1),\n",
    "    timeless=True,\n",
    ")\n",
    "\n",
    "frame_index: int\n",
    "webcam_index: int | None\n",
    "study_name: str | None\n",
    "offset_time: timedelta\n",
    "source_name: Source\n",
    "for log_index, (\n",
    "    frame_index,\n",
    "    webcam_index,\n",
    "    study_name,\n",
    "    source_name,\n",
    "    offset_time,\n",
    ") in enumerate(timeline_df.iter_rows()):\n",
    "    study_name = Study(study_name) if study_name is not None else None\n",
    "\n",
    "    rr.set_time_sequence(\"log_index\", log_index)\n",
    "    rr.set_time_seconds(\"capture_time\", offset_time.total_seconds())\n",
    "\n",
    "    timeline_name = f\"webcam-{webcam_index}\" if source_name == \"webcam\" else source_name\n",
    "    rr.set_time_sequence(f\"{timeline_name}_index\", frame_index)\n",
    "\n",
    "    match source_name:\n",
    "        case \"tobii\":\n",
    "            entry: TobiiEntry = p.tobii_gaze_predictions.row(frame_index, named=True)\n",
    "            rerun_log_tobii(entry, screen=screen_size)\n",
    "\n",
    "        case \"screen\" if screen_cap is not None:\n",
    "            assert p.screen_offset is not None\n",
    "            screen_cap = rerun_log_screen(screen_cap, position=frame_index, size=screen_size)\n",
    "\n",
    "        case \"webcam\" if webcam_index is not None and study_name is not None:\n",
    "            paths = p.get_webcam_video_paths(study=study_name, index=webcam_index)\n",
    "\n",
    "            if len(paths) > 0 and (webcam_path != paths[0] or webcam_cap is None):\n",
    "                webcam_path = paths[0]\n",
    "                webcam_cap = cv.VideoCapture(str(webcam_path.absolute()))\n",
    "\n",
    "            webcam_cap = rerun_log_webcam(webcam_cap, scale=webcam_scale)\n",
    "\n",
    "        case \"log\":\n",
    "            entry: LogEntry = p.user_interaction_logs.row(frame_index, named=True)\n",
    "            rerun_log_user(entry, scale=screen_scale)\n",
    "\n",
    "# end of logging\n",
    "if screen_cap is not None:\n",
    "    screen_cap.release()\n",
    "\n",
    "if webcam_cap is not None:\n",
    "    webcam_cap.release()"
   ]
  },
  {
   "cell_type": "code",
   "execution_count": null,
   "metadata": {},
   "outputs": [],
   "source": []
  }
 ],
 "metadata": {
  "kernelspec": {
   "display_name": "Python 3",
   "language": "python",
   "name": "python3"
  },
  "language_info": {
   "codemirror_mode": {
    "name": "ipython",
    "version": 3
   },
   "file_extension": ".py",
   "mimetype": "text/x-python",
   "name": "python",
   "nbconvert_exporter": "python",
   "pygments_lexer": "ipython3",
   "version": "3.12.0"
  }
 },
 "nbformat": 4,
 "nbformat_minor": 2
}
