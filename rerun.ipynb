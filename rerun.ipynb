{
 "cells": [
  {
   "cell_type": "markdown",
   "metadata": {},
   "source": [
    "# \"The Eye Of The Typer\" Dataset Rerun\n",
    "\n",
    "Visualize using `rerun`."
   ]
  },
  {
   "cell_type": "code",
   "execution_count": null,
   "metadata": {},
   "outputs": [],
   "source": [
    "%load_ext dotenv\n",
    "%dotenv"
   ]
  },
  {
   "cell_type": "code",
   "execution_count": null,
   "metadata": {},
   "outputs": [],
   "source": [
    "from pathlib import Path\n",
    "from pprint import pprint\n",
    "from datetime import datetime, timedelta\n",
    "\n",
    "from decord import VideoReader\n",
    "\n",
    "import polars as pl\n",
    "import rerun as rr\n",
    "\n",
    "from eott_dataset import *\n"
   ]
  },
  {
   "cell_type": "code",
   "execution_count": null,
   "metadata": {},
   "outputs": [],
   "source": [
    "ds = EyeTyperDataset()\n",
    "\n",
    "for source, schema in ds.describe(Source.WEBCAM, Source.LOG).items():\n",
    "    print_schema(source, schema)"
   ]
  },
  {
   "cell_type": "code",
   "execution_count": null,
   "metadata": {},
   "outputs": [],
   "source": [
    "ds.timeline().filter(pid=1).collect()"
   ]
  },
  {
   "cell_type": "code",
   "execution_count": null,
   "metadata": {},
   "outputs": [],
   "source": [
    "get_source_timeline(ds.scan(Source.TOBII), ds.scan(Source.FORM)).filter(pid=1).collect()"
   ]
  },
  {
   "cell_type": "code",
   "execution_count": null,
   "metadata": {},
   "outputs": [],
   "source": [
    "get_source_timeline(ds.scan(Source.DOT), ds.scan(Source.FORM)).filter(pid=1).collect()"
   ]
  },
  {
   "cell_type": "code",
   "execution_count": null,
   "metadata": {},
   "outputs": [],
   "source": [
    "get_source_timeline(ds.scan(Source.LOG), ds.scan(Source.FORM), \"record\", \"study\").filter(pid=1).collect()"
   ]
  },
  {
   "cell_type": "code",
   "execution_count": null,
   "metadata": {},
   "outputs": [],
   "source": [
    "get_screen_timeline(ds.scan(Source.SCREEN), ds.scan(Source.FORM)).filter(pid=1).collect()"
   ]
  },
  {
   "cell_type": "code",
   "execution_count": null,
   "metadata": {},
   "outputs": [],
   "source": [
    "get_webcam_timeline(ds.scan(Source.WEBCAM), ds.scan(Source.LOG)).filter(pid=1).collect()"
   ]
  },
  {
   "cell_type": "code",
   "execution_count": null,
   "metadata": {},
   "outputs": [],
   "source": [
    "# %env set EOTT_DATASET_PATH\n",
    "pdf = read_participant_characteristics()\n",
    "participants = [Participant.from_dict(**row) for row in pdf.iter_rows(named=True)]\n",
    "pdf"
   ]
  },
  {
   "cell_type": "code",
   "execution_count": null,
   "metadata": {},
   "outputs": [],
   "source": [
    "from eott_dataset.rerun import *\n",
    "\n",
    "p = participants[0]\n",
    "study_type = Study.DOT_TEST\n",
    "\n",
    "recording_id = f\"{p.participant_id}/{study_type}\"\n",
    "timeline_df = get_source_timeline(p).filter(pl.col(\"study\") == study_type)\n",
    "\n",
    "rr.init(\"EOTT\", recording_id=recording_id, spawn=True)\n",
    "rr.log(\n",
    "    \"participant\",\n",
    "    rr.TextDocument(\n",
    "        \"\\n\".join(f\"[{key}]\\n{value}\\n\" for key, value in p.to_dict().items())\n",
    "    ),\n",
    "    timeless=True,\n",
    ")\n",
    "\n",
    "screen_cap: cv.VideoCapture | None = None\n",
    "webcam_cap: cv.VideoCapture | None = None\n",
    "webcam_path: Path | None = None\n",
    "\n",
    "screen_size: tuple[int, int] = (p.display_width, p.display_height)\n",
    "screen_size = tuple(map(lambda v: int(v * screen_scale), screen_size))\n",
    "screen_factor = 2 if p.setting is Setting.LAPTOP else 1\n",
    "\n",
    "webcam_scale = 1.0\n",
    "screen_scale = 0.5\n",
    "\n",
    "if p.screen_recording_path.exists():\n",
    "    screen_cap = cv.VideoCapture(str(p.screen_recording_path))\n",
    "\n",
    "rr.log(\n",
    "    f\"screen\",\n",
    "    rr.Boxes2D(sizes=[screen_size], centers=[tuple(map(lambda v: .5 * v, screen_size))]),\n",
    "    timeless=True,\n",
    ")\n",
    "\n",
    "rr.log(\n",
    "    \"participant/pupil/left/tobii\",\n",
    "    rr.SeriesLine(name=\"left pupil diameter (tobii)\", color=(255, 255, 0), width=1),\n",
    "    timeless=True,\n",
    ")\n",
    "rr.log(\n",
    "    \"participant/pupil/right/tobii\",\n",
    "    rr.SeriesLine(name=\"right pupil diameter (tobii)\", color=(255, 0, 255), width=1),\n",
    "    timeless=True,\n",
    ")\n",
    "\n",
    "frame_index: int\n",
    "webcam_index: int | None\n",
    "study_name: str | None\n",
    "offset_time: timedelta\n",
    "source_name: Source\n",
    "for log_index, (\n",
    "    frame_index,\n",
    "    webcam_index,\n",
    "    study_name,\n",
    "    source_name,\n",
    "    offset_time,\n",
    ") in enumerate(timeline_df.iter_rows()):\n",
    "    study_name = Study(study_name) if study_name is not None else None\n",
    "\n",
    "    rr.set_time_sequence(\"log_index\", log_index)\n",
    "    rr.set_time_seconds(\"capture_time\", offset_time.total_seconds())\n",
    "\n",
    "    timeline_name = f\"webcam-{webcam_index}\" if source_name == \"webcam\" else source_name\n",
    "    rr.set_time_sequence(f\"{timeline_name}_index\", frame_index)\n",
    "\n",
    "    match source_name:\n",
    "        case \"tobii\":\n",
    "            entry: TobiiEntry = p.tobii_gaze_predictions.row(frame_index, named=True)\n",
    "            rerun_log_tobii(entry, screen=screen_size)\n",
    "\n",
    "        case \"screen\" if screen_cap is not None:\n",
    "            assert p.screen_offset is not None\n",
    "            screen_cap = rerun_log_screen(screen_cap, position=frame_index, size=screen_size)\n",
    "\n",
    "        case \"webcam\" if webcam_index is not None and study_name is not None:\n",
    "            paths = p.get_webcam_video_paths(study=study_name, index=webcam_index)\n",
    "\n",
    "            if len(paths) > 0 and (webcam_path != paths[0] or webcam_cap is None):\n",
    "                webcam_path = paths[0]\n",
    "                webcam_cap = cv.VideoCapture(str(webcam_path.absolute()))\n",
    "\n",
    "            webcam_cap = rerun_log_webcam(webcam_cap, scale=webcam_scale)\n",
    "\n",
    "        case \"log\":\n",
    "            entry: LogEntry = p.user_interaction_logs.row(frame_index, named=True)\n",
    "            rerun_log_user(entry, scale=screen_scale)\n",
    "\n",
    "# end of logging\n",
    "if screen_cap is not None:\n",
    "    screen_cap.release()\n",
    "\n",
    "if webcam_cap is not None:\n",
    "    webcam_cap.release()"
   ]
  },
  {
   "cell_type": "code",
   "execution_count": null,
   "metadata": {},
   "outputs": [],
   "source": []
  }
 ],
 "metadata": {
  "kernelspec": {
   "display_name": "Python 3",
   "language": "python",
   "name": "python3"
  },
  "language_info": {
   "codemirror_mode": {
    "name": "ipython",
    "version": 3
   },
   "file_extension": ".py",
   "mimetype": "text/x-python",
   "name": "python",
   "nbconvert_exporter": "python",
   "pygments_lexer": "ipython3",
   "version": "3.12.0"
  }
 },
 "nbformat": 4,
 "nbformat_minor": 2
}
