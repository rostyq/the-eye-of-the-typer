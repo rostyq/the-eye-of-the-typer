{
 "cells": [
  {
   "cell_type": "markdown",
   "metadata": {},
   "source": [
    "# \"The Eye Of The Typer\" Dataset Rerun\n",
    "\n",
    "Visualize using `rerun`."
   ]
  },
  {
   "cell_type": "code",
   "execution_count": null,
   "metadata": {},
   "outputs": [],
   "source": [
    "%load_ext dotenv\n",
    "%dotenv"
   ]
  },
  {
   "cell_type": "code",
   "execution_count": null,
   "metadata": {},
   "outputs": [],
   "source": [
    "from typing import cast\n",
    "from pathlib import Path\n",
    "from pprint import pprint\n",
    "from datetime import timedelta\n",
    "\n",
    "import polars as pl\n",
    "import rerun as rr\n",
    "\n",
    "from eott_dataset import *\n",
    "from eott_dataset.rerun import *"
   ]
  },
  {
   "cell_type": "code",
   "execution_count": null,
   "metadata": {},
   "outputs": [],
   "source": [
    "ds = EyeTyperDataset()\n",
    "\n",
    "for source, schema in ds.describe(Source.MOUSE).items():\n",
    "    print_schema(source, schema)"
   ]
  },
  {
   "cell_type": "code",
   "execution_count": null,
   "metadata": {},
   "outputs": [],
   "source": [
    "participant = ds.participant(1)\n",
    "print(f\"Participant {participant.pid:>02d}\")"
   ]
  },
  {
   "cell_type": "code",
   "execution_count": null,
   "metadata": {},
   "outputs": [],
   "source": [
    "record = 3\n",
    "recording_id = f\"{participant.pid:02d}-{record:02d}\"\n",
    "\n",
    "rr.init(\"EOTT\", recording_id=recording_id, spawn=True)\n",
    "rerun_log_participant(participant, record)\n",
    "\n",
    "entries_iter = participant.iter_timeline(record=record)\n",
    "for entry in entries_iter:\n",
    "    rr.set_time_seconds(\"offset\", entry[\"offset\"].total_seconds())\n",
    "\n",
    "    match entry[\"source\"]:\n",
    "        case \"tobii\":\n",
    "            rerun_log_tobii(cast(TobiiEntry, entry[\"data\"]), screen=participant.screen_res)\n",
    "\n",
    "        case \"mouse\":\n",
    "            rerun_log_mouse(cast(MouseEntry, entry[\"data\"]))\n",
    "\n",
    "        case \"screen\" | \"webcam\":\n",
    "            entity = rr.Image(cast(FrameEntry, entry[\"data\"])[\"frame\"])\n",
    "            if entry[\"source\"] == \"screen\":\n",
    "                entity = entity.compress()\n",
    "            rr.log(entry[\"source\"], entity)\n",
    "\n",
    "    del entry"
   ]
  },
  {
   "cell_type": "code",
   "execution_count": null,
   "metadata": {},
   "outputs": [],
   "source": []
  }
 ],
 "metadata": {
  "kernelspec": {
   "display_name": "Python 3",
   "language": "python",
   "name": "python3"
  },
  "language_info": {
   "codemirror_mode": {
    "name": "ipython",
    "version": 3
   },
   "file_extension": ".py",
   "mimetype": "text/x-python",
   "name": "python",
   "nbconvert_exporter": "python",
   "pygments_lexer": "ipython3",
   "version": "3.12.0"
  }
 },
 "nbformat": 4,
 "nbformat_minor": 2
}
