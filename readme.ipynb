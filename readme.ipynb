{
 "cells": [
  {
   "cell_type": "markdown",
   "metadata": {},
   "source": [
    "# \"The Eye Of The Typer\" Dataset"
   ]
  },
  {
   "cell_type": "code",
   "execution_count": null,
   "metadata": {},
   "outputs": [],
   "source": [
    "%load_ext dotenv\n",
    "%dotenv"
   ]
  },
  {
   "cell_type": "code",
   "execution_count": null,
   "metadata": {},
   "outputs": [],
   "source": [
    "import re\n",
    "from pathlib import Path\n",
    "from typing import Literal, Iterator\n",
    "from datetime import datetime, timedelta\n",
    "from pprint import pprint\n",
    "\n",
    "import polars as pl\n",
    "import rerun as rr\n",
    "import cv2 as cv\n",
    "\n",
    "from eott_dataset import *\n",
    "from eott_dataset.rerun import *"
   ]
  },
  {
   "cell_type": "code",
   "execution_count": null,
   "metadata": {},
   "outputs": [],
   "source": [
    "# %env set EOTT_DATASET_PATH\n",
    "df = read_participant_characteristics()\n",
    "df"
   ]
  },
  {
   "cell_type": "code",
   "execution_count": null,
   "metadata": {},
   "outputs": [],
   "source": [
    "participants = [Participant.create(**row) for row in df.iter_rows(named=True)]\n",
    "\n",
    "print(\"Participants:\", len(participants), end=\"\\n\\n\")"
   ]
  },
  {
   "cell_type": "code",
   "execution_count": null,
   "metadata": {},
   "outputs": [],
   "source": [
    "p = participants[0]\n",
    "pprint(p)"
   ]
  },
  {
   "cell_type": "code",
   "execution_count": null,
   "metadata": {},
   "outputs": [],
   "source": [
    "study = Study.DOT_TEST\n",
    "\n",
    "recording_id = f\"{p.participant_id}/{study}\"\n",
    "\n",
    "rr.init(\"EOTT\", recording_id=recording_id, spawn=True)\n",
    "rr.log(\n",
    "    \"participant\",\n",
    "    rr.TextDocument(\n",
    "        \"\\n\".join(f\"[{key}]\\n{value}\\n\" for key, value in p.to_dict().items())\n",
    "    ),\n",
    "    timeless=True,\n",
    ")\n",
    "\n",
    "screen_cap: cv.VideoCapture | None = None\n",
    "webcam_cap: cv.VideoCapture | None = None\n",
    "webcam_path: Path | None = None\n",
    "\n",
    "screen_size: tuple[int, int] = (p.display_width, p.display_height)\n",
    "screen_factor = 2 if p.setting is Setting.LAPTOP else 1\n",
    "\n",
    "webcam_scale = .5\n",
    "screen_scale = .5\n",
    "\n",
    "if p.screen_recording is not None:\n",
    "    screen_size = tuple(map(lambda v: int(v * screen_scale), screen_size))\n",
    "    screen_cap = cv.VideoCapture(str(p.screen_recording_path))\n",
    "\n",
    "rr.log(\n",
    "    f\"screen\",\n",
    "    rr.Boxes2D(\n",
    "        sizes=[screen_size],\n",
    "        centers=[tuple(map(lambda v: v * .5, screen_size))],\n",
    "    ),\n",
    "    timeless=True,\n",
    ")\n",
    "\n",
    "rr.log(\n",
    "    \"participant/pupil/left/tobii\",\n",
    "    rr.SeriesLine(name=\"left pupil diameter (tobii)\", color=(255, 255, 0), width=1),\n",
    "    timeless=True,\n",
    ")\n",
    "rr.log(\n",
    "    \"participant/pupil/right/tobii\",\n",
    "    rr.SeriesLine(name=\"right pupil diameter (tobii)\", color=(255, 0, 255), width=1),\n",
    "    timeless=True,\n",
    ")\n",
    "\n",
    "timeline_df = get_timeline(p).filter(pl.col(\"study\") == study.value)\n",
    "\n",
    "frame_index: int\n",
    "webcam_index: int | None\n",
    "study_name: str | None\n",
    "offset_time: timedelta\n",
    "source_name: Source\n",
    "for log_index, (\n",
    "    frame_index,\n",
    "    webcam_index,\n",
    "    study_name,\n",
    "    source_name,\n",
    "    offset_time,\n",
    ") in enumerate(timeline_df.iter_rows()):\n",
    "    study_name = Study(study_name) if study_name is not None else None\n",
    "\n",
    "    rr.set_time_sequence(\"log_index\", log_index)\n",
    "    rr.set_time_seconds(\"capture_time\", offset_time.total_seconds())\n",
    "\n",
    "    timeline_name = f\"webcam-{webcam_index}\" if source_name == \"webcam\" else source_name\n",
    "    rr.set_time_sequence(f\"{timeline_name}_index\", frame_index)\n",
    "\n",
    "    match source_name:\n",
    "        case \"tobii\":\n",
    "            rerun_log_tobii(\n",
    "                p.tobii_gaze_predictions.row(frame_index, named=True),\n",
    "                screen=screen_size,\n",
    "            )\n",
    "\n",
    "        case \"screen\" if screen_cap is not None:\n",
    "            assert p.screen_recording is not None\n",
    "            assert p.screen_offset is not None\n",
    "            screen_cap = rerun_log_screen(\n",
    "                screen_cap, position=frame_index, size=screen_size\n",
    "            )\n",
    "\n",
    "        case \"webcam\" if webcam_index is not None and study_name is not None:\n",
    "            paths = p.get_webcam_video_paths(study=study_name, index=webcam_index)\n",
    "\n",
    "            if len(paths) > 0 and (webcam_path != paths[0] or webcam_cap is None):\n",
    "                webcam_path = paths[0]\n",
    "                webcam_cap = cv.VideoCapture(str(webcam_path.absolute()))\n",
    "\n",
    "            webcam_cap = rerun_log_webcam(webcam_cap, name=None, scale=0.5)\n",
    "\n",
    "        case \"log\":\n",
    "            rerun_log_user(p.user_interaction_logs.row(frame_index, named=True), scale=screen_scale)\n",
    "\n",
    "# end of logging\n",
    "if screen_cap is not None:\n",
    "    screen_cap.release()\n",
    "\n",
    "if webcam_cap is not None:\n",
    "    webcam_cap.release()"
   ]
  },
  {
   "cell_type": "code",
   "execution_count": null,
   "metadata": {},
   "outputs": [],
   "source": []
  }
 ],
 "metadata": {
  "kernelspec": {
   "display_name": "Python 3",
   "language": "python",
   "name": "python3"
  },
  "language_info": {
   "codemirror_mode": {
    "name": "ipython",
    "version": 3
   },
   "file_extension": ".py",
   "mimetype": "text/x-python",
   "name": "python",
   "nbconvert_exporter": "python",
   "pygments_lexer": "ipython3",
   "version": "3.12.0"
  }
 },
 "nbformat": 4,
 "nbformat_minor": 2
}
